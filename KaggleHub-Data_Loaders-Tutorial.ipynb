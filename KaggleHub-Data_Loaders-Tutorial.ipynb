{
 "cells": [
  {
   "cell_type": "markdown",
   "id": "fc5ab269-105b-445e-a54c-7fb2a2367509",
   "metadata": {},
   "source": [
    "<h1><b>KaggleHub Data Loader</b></h1>"
   ]
  },
  {
   "cell_type": "markdown",
   "id": "54b06ba2-d6cc-412a-95e5-ae3271d726a7",
   "metadata": {},
   "source": [
    "<h2>1. Install the kagglehub package with pip:</h2>"
   ]
  },
  {
   "cell_type": "code",
   "execution_count": 4,
   "id": "5509c4f7-3b11-4da6-9783-9602207347b0",
   "metadata": {},
   "outputs": [
    {
     "name": "stdout",
     "output_type": "stream",
     "text": [
      "Collecting kagglehub\n",
      "  Downloading kagglehub-0.3.6-py3-none-any.whl.metadata (30 kB)\n",
      "Requirement already satisfied: packaging in c:\\anaconda\\lib\\site-packages (from kagglehub) (23.2)\n",
      "Requirement already satisfied: requests in c:\\anaconda\\lib\\site-packages (from kagglehub) (2.32.2)\n",
      "Requirement already satisfied: tqdm in c:\\anaconda\\lib\\site-packages (from kagglehub) (4.66.4)\n",
      "Requirement already satisfied: charset-normalizer<4,>=2 in c:\\anaconda\\lib\\site-packages (from requests->kagglehub) (2.0.4)\n",
      "Requirement already satisfied: idna<4,>=2.5 in c:\\anaconda\\lib\\site-packages (from requests->kagglehub) (3.7)\n",
      "Requirement already satisfied: urllib3<3,>=1.21.1 in c:\\anaconda\\lib\\site-packages (from requests->kagglehub) (2.2.2)\n",
      "Requirement already satisfied: certifi>=2017.4.17 in c:\\anaconda\\lib\\site-packages (from requests->kagglehub) (2024.7.4)\n",
      "Requirement already satisfied: colorama in c:\\anaconda\\lib\\site-packages (from tqdm->kagglehub) (0.4.6)\n",
      "Downloading kagglehub-0.3.6-py3-none-any.whl (51 kB)\n",
      "   ---------------------------------------- 0.0/51.9 kB ? eta -:--:--\n",
      "   ---------------------------------------  51.2/51.9 kB 2.7 MB/s eta 0:00:01\n",
      "   ---------------------------------------  51.2/51.9 kB 2.7 MB/s eta 0:00:01\n",
      "   ---------------------------------------- 51.9/51.9 kB 448.2 kB/s eta 0:00:00\n",
      "Installing collected packages: kagglehub\n",
      "Successfully installed kagglehub-0.3.6\n",
      "Note: you may need to restart the kernel to use updated packages.\n"
     ]
    }
   ],
   "source": [
    "pip install kagglehub"
   ]
  },
  {
   "cell_type": "markdown",
   "id": "11330884-8f8d-4388-a772-0ea558264aae",
   "metadata": {},
   "source": []
  },
  {
   "cell_type": "markdown",
   "id": "bd93ecf2-b67c-4dd5-a292-b813cd4398a8",
   "metadata": {},
   "source": [
    "<h2>2. Install the necessary KaggleDatasetAdapter </h2>"
   ]
  },
  {
   "cell_type": "code",
   "execution_count": null,
   "id": "4c6855fc-e2de-409e-9ddd-194c6603d437",
   "metadata": {
    "scrolled": true
   },
   "outputs": [],
   "source": [
    "pip install --upgrade kagglehub[pandas-datasets,hf-datasets]"
   ]
  },
  {
   "cell_type": "markdown",
   "id": "3f8ac8cb-80ab-4db4-850e-9eee981e281f",
   "metadata": {},
   "source": []
  },
  {
   "cell_type": "markdown",
   "id": "26394fd4-0f88-4fca-84b3-ce0f685423ac",
   "metadata": {},
   "source": [
    "<h2>3. Load the Data from KaggleHub </h2>"
   ]
  },
  {
   "cell_type": "code",
   "execution_count": 3,
   "id": "b0bbc736-8961-4e0e-babe-c6790a2f44a7",
   "metadata": {},
   "outputs": [],
   "source": [
    "# Import necessary libraries\n",
    "import kagglehub\n",
    "from kagglehub import KaggleDatasetAdapter\n",
    "\n",
    "# 1. Hugging Face\n",
    "\"\"\"\n",
    "# Load a specific version of a CSV file from KaggleHub using KaggleDatasetAdapter.HUGGING_FACE\n",
    "\n",
    "# Load the dataset using the KaggleHub library and the Hugging Face adapter.\n",
    "dataset = kagglehub.load_dataset(\n",
    "    KaggleDatasetAdapter.HUGGING_FACE, \n",
    "    \"bricevergnou/spotify-recommendation/versions/2\",  # Dataset path on KaggleHub\n",
    "    \"data.csv\"  # Name of the CSV file within the dataset\n",
    ")\n",
    "\"\"\"\n",
    "dataset = kagglehub.load_dataset(\n",
    "    KaggleDatasetAdapter.HUGGING_FACE,\n",
    "    \"bricevergnou/spotify-recommendation/versions/2\",\n",
    "    \"data.csv\",\n",
    ")"
   ]
  },
  {
   "cell_type": "code",
   "execution_count": 5,
   "id": "8dbcadc2-6d9a-4893-9e73-43519086ba3d",
   "metadata": {},
   "outputs": [],
   "source": [
    "# 2. Pandas\n",
    "\"\"\"\n",
    "# Load a DataFrame with a specific version of a CSV using KaggleDatasetAdapter.PANDAS\n",
    "\n",
    "# Load the \"data.csv\" file from the specified KaggleHub dataset \n",
    "# directly into a pandas DataFrame using the pandas adapter.\n",
    "df = kagglehub.load_dataset(\n",
    "    KaggleDatasetAdapter.PANDAS, \n",
    "    \"bricevergnou/spotify-recommendation/versions/2\",  # Dataset path on KaggleHub\n",
    "    \"data.csv\"  # Name of the CSV file within the dataset\n",
    ")\n",
    "\"\"\"\n",
    "# Load a DataFrame with a specific version of a CSV using KaggleDatasetAdapter.PANDAS\n",
    "df = kagglehub.load_dataset(\n",
    "    KaggleDatasetAdapter.PANDAS,\n",
    "    \"bricevergnou/spotify-recommendation/versions/2\",\n",
    "    \"data.csv\",\n",
    ")"
   ]
  },
  {
   "cell_type": "code",
   "execution_count": 22,
   "id": "247d5588-7d97-44d8-ad07-265cae24155b",
   "metadata": {},
   "outputs": [
    {
     "name": "stdout",
     "output_type": "stream",
     "text": [
      "<class 'pandas.core.frame.DataFrame'>\n",
      "RangeIndex: 195 entries, 0 to 194\n",
      "Data columns (total 14 columns):\n",
      " #   Column            Non-Null Count  Dtype  \n",
      "---  ------            --------------  -----  \n",
      " 0   danceability      195 non-null    float64\n",
      " 1   energy            195 non-null    float64\n",
      " 2   key               195 non-null    int64  \n",
      " 3   loudness          195 non-null    float64\n",
      " 4   mode              195 non-null    int64  \n",
      " 5   speechiness       195 non-null    float64\n",
      " 6   acousticness      195 non-null    float64\n",
      " 7   instrumentalness  195 non-null    float64\n",
      " 8   liveness          195 non-null    float64\n",
      " 9   valence           195 non-null    float64\n",
      " 10  tempo             195 non-null    float64\n",
      " 11  duration_ms       195 non-null    int64  \n",
      " 12  time_signature    195 non-null    int64  \n",
      " 13  liked             195 non-null    int64  \n",
      "dtypes: float64(9), int64(5)\n",
      "memory usage: 21.5 KB\n"
     ]
    }
   ],
   "source": [
    "# Let's check the information of data from the CSV file loaded into the pandas dataframe.\n",
    "df.info()"
   ]
  },
  {
   "cell_type": "code",
   "execution_count": 24,
   "id": "7aedb83a-681b-4aca-b743-53a927dd8e80",
   "metadata": {},
   "outputs": [
    {
     "data": {
      "text/html": [
       "<div>\n",
       "<style scoped>\n",
       "    .dataframe tbody tr th:only-of-type {\n",
       "        vertical-align: middle;\n",
       "    }\n",
       "\n",
       "    .dataframe tbody tr th {\n",
       "        vertical-align: top;\n",
       "    }\n",
       "\n",
       "    .dataframe thead th {\n",
       "        text-align: right;\n",
       "    }\n",
       "</style>\n",
       "<table border=\"1\" class=\"dataframe\">\n",
       "  <thead>\n",
       "    <tr style=\"text-align: right;\">\n",
       "      <th></th>\n",
       "      <th>danceability</th>\n",
       "      <th>energy</th>\n",
       "      <th>key</th>\n",
       "      <th>loudness</th>\n",
       "      <th>mode</th>\n",
       "      <th>speechiness</th>\n",
       "      <th>acousticness</th>\n",
       "      <th>instrumentalness</th>\n",
       "      <th>liveness</th>\n",
       "      <th>valence</th>\n",
       "      <th>tempo</th>\n",
       "      <th>duration_ms</th>\n",
       "      <th>time_signature</th>\n",
       "      <th>liked</th>\n",
       "    </tr>\n",
       "  </thead>\n",
       "  <tbody>\n",
       "    <tr>\n",
       "      <th>0</th>\n",
       "      <td>0.803</td>\n",
       "      <td>0.6240</td>\n",
       "      <td>7</td>\n",
       "      <td>-6.764</td>\n",
       "      <td>0</td>\n",
       "      <td>0.0477</td>\n",
       "      <td>0.451</td>\n",
       "      <td>0.000734</td>\n",
       "      <td>0.1000</td>\n",
       "      <td>0.6280</td>\n",
       "      <td>95.968</td>\n",
       "      <td>304524</td>\n",
       "      <td>4</td>\n",
       "      <td>0</td>\n",
       "    </tr>\n",
       "    <tr>\n",
       "      <th>1</th>\n",
       "      <td>0.762</td>\n",
       "      <td>0.7030</td>\n",
       "      <td>10</td>\n",
       "      <td>-7.951</td>\n",
       "      <td>0</td>\n",
       "      <td>0.3060</td>\n",
       "      <td>0.206</td>\n",
       "      <td>0.000000</td>\n",
       "      <td>0.0912</td>\n",
       "      <td>0.5190</td>\n",
       "      <td>151.329</td>\n",
       "      <td>247178</td>\n",
       "      <td>4</td>\n",
       "      <td>1</td>\n",
       "    </tr>\n",
       "    <tr>\n",
       "      <th>2</th>\n",
       "      <td>0.261</td>\n",
       "      <td>0.0149</td>\n",
       "      <td>1</td>\n",
       "      <td>-27.528</td>\n",
       "      <td>1</td>\n",
       "      <td>0.0419</td>\n",
       "      <td>0.992</td>\n",
       "      <td>0.897000</td>\n",
       "      <td>0.1020</td>\n",
       "      <td>0.0382</td>\n",
       "      <td>75.296</td>\n",
       "      <td>286987</td>\n",
       "      <td>4</td>\n",
       "      <td>0</td>\n",
       "    </tr>\n",
       "    <tr>\n",
       "      <th>3</th>\n",
       "      <td>0.722</td>\n",
       "      <td>0.7360</td>\n",
       "      <td>3</td>\n",
       "      <td>-6.994</td>\n",
       "      <td>0</td>\n",
       "      <td>0.0585</td>\n",
       "      <td>0.431</td>\n",
       "      <td>0.000001</td>\n",
       "      <td>0.1230</td>\n",
       "      <td>0.5820</td>\n",
       "      <td>89.860</td>\n",
       "      <td>208920</td>\n",
       "      <td>4</td>\n",
       "      <td>1</td>\n",
       "    </tr>\n",
       "    <tr>\n",
       "      <th>4</th>\n",
       "      <td>0.787</td>\n",
       "      <td>0.5720</td>\n",
       "      <td>1</td>\n",
       "      <td>-7.516</td>\n",
       "      <td>1</td>\n",
       "      <td>0.2220</td>\n",
       "      <td>0.145</td>\n",
       "      <td>0.000000</td>\n",
       "      <td>0.0753</td>\n",
       "      <td>0.6470</td>\n",
       "      <td>155.117</td>\n",
       "      <td>179413</td>\n",
       "      <td>4</td>\n",
       "      <td>1</td>\n",
       "    </tr>\n",
       "  </tbody>\n",
       "</table>\n",
       "</div>"
      ],
      "text/plain": [
       "   danceability  energy  key  loudness  mode  speechiness  acousticness  \\\n",
       "0         0.803  0.6240    7    -6.764     0       0.0477         0.451   \n",
       "1         0.762  0.7030   10    -7.951     0       0.3060         0.206   \n",
       "2         0.261  0.0149    1   -27.528     1       0.0419         0.992   \n",
       "3         0.722  0.7360    3    -6.994     0       0.0585         0.431   \n",
       "4         0.787  0.5720    1    -7.516     1       0.2220         0.145   \n",
       "\n",
       "   instrumentalness  liveness  valence    tempo  duration_ms  time_signature  \\\n",
       "0          0.000734    0.1000   0.6280   95.968       304524               4   \n",
       "1          0.000000    0.0912   0.5190  151.329       247178               4   \n",
       "2          0.897000    0.1020   0.0382   75.296       286987               4   \n",
       "3          0.000001    0.1230   0.5820   89.860       208920               4   \n",
       "4          0.000000    0.0753   0.6470  155.117       179413               4   \n",
       "\n",
       "   liked  \n",
       "0      0  \n",
       "1      1  \n",
       "2      0  \n",
       "3      1  \n",
       "4      1  "
      ]
     },
     "execution_count": 24,
     "metadata": {},
     "output_type": "execute_result"
    }
   ],
   "source": [
    "# Let's check the first 5 rows\n",
    "df.head()"
   ]
  },
  {
   "cell_type": "code",
   "execution_count": null,
   "id": "a6a2abf6-e6f5-4fa7-85e3-090fc842a651",
   "metadata": {},
   "outputs": [],
   "source": []
  }
 ],
 "metadata": {
  "kernelspec": {
   "display_name": "Python 3 (ipykernel)",
   "language": "python",
   "name": "python3"
  },
  "language_info": {
   "codemirror_mode": {
    "name": "ipython",
    "version": 3
   },
   "file_extension": ".py",
   "mimetype": "text/x-python",
   "name": "python",
   "nbconvert_exporter": "python",
   "pygments_lexer": "ipython3",
   "version": "3.12.4"
  }
 },
 "nbformat": 4,
 "nbformat_minor": 5
}
