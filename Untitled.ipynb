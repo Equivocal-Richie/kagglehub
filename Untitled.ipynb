{
 "cells": [
  {
   "cell_type": "code",
   "execution_count": 4,
   "id": "1e193a66-a407-425f-b7ec-ce2443c9925e",
   "metadata": {},
   "outputs": [
    {
     "name": "stdout",
     "output_type": "stream",
     "text": [
      "Collecting git+https://github.com/Kaggle/kagglehub.git@login\n",
      "  Cloning https://github.com/Kaggle/kagglehub.git (to revision login) to /tmp/pip-req-build-qdw5wmc8\n",
      "  Running command git clone --filter=blob:none --quiet https://github.com/Kaggle/kagglehub.git /tmp/pip-req-build-qdw5wmc8\n",
      "  Running command git checkout -b login --track origin/login\n",
      "  Switched to a new branch 'login'\n",
      "  branch 'login' set up to track 'origin/login'.\n",
      "  Resolved https://github.com/Kaggle/kagglehub.git to commit 1ada7a939a75a3b540bb33e52ce6ae0de50537e7\n",
      "  Installing build dependencies ... \u001b[?25ldone\n",
      "\u001b[?25h  Getting requirements to build wheel ... \u001b[?25ldone\n",
      "\u001b[?25h  Preparing metadata (pyproject.toml) ... \u001b[?25ldone\n",
      "\u001b[?25hRequirement already satisfied: requests in /usr/local/google/home/aminmohamed/miniconda3/lib/python3.10/site-packages (from kagglehub==0.0.1a1) (2.31.0)\n",
      "Requirement already satisfied: tqdm in /usr/local/google/home/aminmohamed/miniconda3/lib/python3.10/site-packages (from kagglehub==0.0.1a1) (4.64.1)\n",
      "Requirement already satisfied: charset-normalizer<4,>=2 in /usr/local/google/home/aminmohamed/miniconda3/lib/python3.10/site-packages (from requests->kagglehub==0.0.1a1) (2.0.4)\n",
      "Requirement already satisfied: urllib3<3,>=1.21.1 in /usr/local/google/home/aminmohamed/miniconda3/lib/python3.10/site-packages (from requests->kagglehub==0.0.1a1) (1.26.14)\n",
      "Requirement already satisfied: certifi>=2017.4.17 in /usr/local/google/home/aminmohamed/miniconda3/lib/python3.10/site-packages (from requests->kagglehub==0.0.1a1) (2022.12.7)\n",
      "Requirement already satisfied: idna<4,>=2.5 in /usr/local/google/home/aminmohamed/miniconda3/lib/python3.10/site-packages (from requests->kagglehub==0.0.1a1) (3.4)\n"
     ]
    }
   ],
   "source": [
    "!pip install git+https://github.com/Kaggle/kagglehub.git@login_"
   ]
  },
  {
   "cell_type": "code",
   "execution_count": 3,
   "id": "03c21ee9-67de-4d22-b78b-3e7e794d1cb7",
   "metadata": {},
   "outputs": [
    {
     "ename": "NotImplementedError",
     "evalue": "",
     "output_type": "error",
     "traceback": [
      "\u001b[0;31m---------------------------------------------------------------------------\u001b[0m",
      "\u001b[0;31mNotImplementedError\u001b[0m                       Traceback (most recent call last)",
      "Cell \u001b[0;32mIn[3], line 2\u001b[0m\n\u001b[1;32m      1\u001b[0m \u001b[38;5;28;01mimport\u001b[39;00m \u001b[38;5;21;01mkagglehub\u001b[39;00m\n\u001b[0;32m----> 2\u001b[0m \u001b[43mkagglehub\u001b[49m\u001b[38;5;241;43m.\u001b[39;49m\u001b[43mlogin\u001b[49m\u001b[43m(\u001b[49m\u001b[43m)\u001b[49m\n",
      "File \u001b[0;32m~/miniconda3/lib/python3.10/site-packages/kagglehub/auth.py:2\u001b[0m, in \u001b[0;36mlogin\u001b[0;34m()\u001b[0m\n\u001b[1;32m      1\u001b[0m \u001b[38;5;28;01mdef\u001b[39;00m \u001b[38;5;21mlogin\u001b[39m():\n\u001b[0;32m----> 2\u001b[0m     \u001b[38;5;28;01mraise\u001b[39;00m \u001b[38;5;167;01mNotImplementedError\u001b[39;00m()\n",
      "\u001b[0;31mNotImplementedError\u001b[0m: "
     ]
    }
   ],
   "source": [
    "import kagglehub\n",
    "kagglehub.login()"
   ]
  },
  {
   "cell_type": "code",
   "execution_count": null,
   "id": "c68cdaef-f244-44a3-a083-4eff504a4017",
   "metadata": {},
   "outputs": [],
   "source": []
  }
 ],
 "metadata": {
  "kernelspec": {
   "display_name": "Python 3 (ipykernel)",
   "language": "python",
   "name": "python3"
  },
  "language_info": {
   "codemirror_mode": {
    "name": "ipython",
    "version": 3
   },
   "file_extension": ".py",
   "mimetype": "text/x-python",
   "name": "python",
   "nbconvert_exporter": "python",
   "pygments_lexer": "ipython3",
   "version": "3.10.9"
  }
 },
 "nbformat": 4,
 "nbformat_minor": 5
}
